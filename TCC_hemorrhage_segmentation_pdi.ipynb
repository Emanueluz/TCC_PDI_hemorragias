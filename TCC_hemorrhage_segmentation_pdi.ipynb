{
 "cells": [
  {
   "cell_type": "code",
   "execution_count": 1,
   "metadata": {
    "colab": {
     "base_uri": "https://localhost:8080/"
    },
    "id": "9frtzbx9R0Xv",
    "outputId": "a15716bb-98fc-4c2a-8ae9-33d6f1169c56"
   },
   "outputs": [
    {
     "name": "stdout",
     "output_type": "stream",
     "text": [
      "/bin/bash: linha 1: python: comando não encontrado\r\n"
     ]
    }
   ],
   "source": [
    "!python -m pip install pydicom pylibjpeg GDCM pylibjpeg-libjpeg"
   ]
  },
  {
   "cell_type": "code",
   "execution_count": 2,
   "metadata": {
    "id": "x9x9cU6HpUkK",
    "outputId": "982d0964-ff48-456d-b42e-acbd733db98e"
   },
   "outputs": [],
   "source": [
    "import cv2\n",
    "import matplotlib.pyplot as plt \n",
    "import numpy as np\n",
    "import pydicom \n",
    "from pydicom.dicomdir import DicomDir\n",
    "import pydicom.pixel_data_handlers.gdcm_handler as gdcm_handler\n",
    "\n",
    "pydicom.config.image_handlers = [None, gdcm_handler]"
   ]
  },
  {
   "cell_type": "markdown",
   "metadata": {
    "id": "qDJYPvfkEY-f"
   },
   "source": [
    "# FUNÇÕES\n"
   ]
  },
  {
   "cell_type": "code",
   "execution_count": 3,
   "metadata": {
    "id": "XUwYw8JOqtuO"
   },
   "outputs": [],
   "source": [
    "def plot_big(img, cmap=\"Greys_r\"):\n",
    "  plt.figure(figsize=(10, 10))\n",
    "  plt.imshow(img, cmap=cmap)\n"
   ]
  },
  {
   "cell_type": "code",
   "execution_count": 4,
   "metadata": {
    "id": "UsZSRAa7TD0-"
   },
   "outputs": [],
   "source": [
    "def window_image(img: np.ndarray,\n",
    "                  window_center: int,\n",
    "                  window_width: int,\n",
    "                  rescale: bool = True) -> np.ndarray:\n",
    "\n",
    "    img = img.astype(np.float32)\n",
    "    # for translation adjustments given in the dicom file.\n",
    "    img_min = window_center - window_width//2  # minimum HU level\n",
    "    img_max = window_center + window_width//2  # maximum HU level\n",
    "    # set img_min for all HU levels less than minimum HU level\n",
    "    img[img < img_min] = img_min\n",
    "    # set img_max for all HU levels higher than maximum HU level\n",
    "    img[img > img_max] = img_max\n",
    "    if rescale:\n",
    "        img = (img - img_min) / (img_max - img_min)*255.0\n",
    "    return img\n",
    "  \n"
   ]
  },
  {
   "cell_type": "code",
   "execution_count": 5,
   "metadata": {
    "id": "iz1ilFawGeCr"
   },
   "outputs": [],
   "source": [
    "def biggest_component(image):\n",
    "    nb_components, output, stats, centroids = cv2.connectedComponentsWithStats(image, connectivity=8)\n",
    "    sizes = stats[:, -1]\n",
    "\n",
    "    max_label = 1\n",
    "    max_size = sizes[1]\n",
    "    for i in range(2, nb_components):\n",
    "        if sizes[i] > max_size:\n",
    "            max_label = i\n",
    "            max_size = sizes[i]\n",
    "\n",
    "    mask = np.zeros(output.shape)\n",
    "    mask[output == max_label] = 255\n",
    "    return mask\n"
   ]
  },
  {
   "cell_type": "code",
   "execution_count": 6,
   "metadata": {
    "id": "1kYJ9OD3EY-j"
   },
   "outputs": [],
   "source": [
    "def apply_smoothing(values, window_size=15):\n",
    "  smoothed = []\n",
    "\n",
    "  for i in range(1, len(values)):\n",
    "    l = i - window_size // 2\n",
    "    r = i + window_size // 2\n",
    "    window = values[l : r]\n",
    "    smoothed.append(np.mean(window))\n",
    "\n",
    "  return smoothed\n",
    "\n",
    "\n",
    "\n",
    "def find_extrema_with_windowing(values, window_size=21, is_min=False): \n",
    "  arg_fn = np.argmin if is_min else np.argmax\n",
    "  comp_fn = less_than_fn if is_min else greater_than_fn\n",
    "\n",
    "  extrema_points = []\n",
    "  #for idx in range(window_size//2, len(values)-window_size//2):\n",
    "  for idx in range(len(values)):\n",
    "    l = idx - window_size // 2\n",
    "    r = idx + window_size // 2\n",
    "    window = values[l : r]\n",
    "    if len(window) <= 1:\n",
    "      continue\n",
    "    local_extrema_idx = arg_fn(window)\n",
    "    if idx == (l + local_extrema_idx):\n",
    "      avg_before = np.mean(window[:len(window)//2])\n",
    "      avg_after = np.mean(window[len(window)//2:])\n",
    "      if comp_fn(values[idx], avg_before) and comp_fn(values[idx], avg_after):\n",
    "        extrema_points.append(idx)\n",
    "\n",
    "  return extrema_points\n"
   ]
  },
  {
   "cell_type": "code",
   "execution_count": 7,
   "metadata": {
    "id": "6BIZk5XuEY-m"
   },
   "outputs": [],
   "source": [
    "\n",
    "# assume that small connected components are noise and discard them\n",
    "def mask_out_small_components(labels, stats, area_threshold=20):\n",
    "  components_to_keep = []\n",
    "  for label_idx in range(1, num_labels): # starts from 1 to ignore backgronud\n",
    "    if stats[label_idx, cv2.CC_STAT_AREA] >= area_threshold:\n",
    "      components_to_keep.append(label_idx)\n",
    "    \n",
    "  mask = np.zeros_like(labels)\n",
    "  for label_idx in components_to_keep:\n",
    "    mask[labels == label_idx] = 255\n",
    "  \n",
    "  return mask"
   ]
  },
  {
   "cell_type": "markdown",
   "metadata": {
    "id": "3PXoMg4-EY-n"
   },
   "source": [
    "# PRINCIPIO DO CÓDIGO\n"
   ]
  },
  {
   "cell_type": "code",
   "execution_count": 9,
   "metadata": {
    "colab": {
     "base_uri": "https://localhost:8080/",
     "height": 595
    },
    "id": "u89L1LK0RveH",
    "outputId": "67cf9dbd-3f9e-4024-fab4-006f4dd39edb"
   },
   "outputs": [
    {
     "ename": "FileNotFoundError",
     "evalue": "[Errno 2] No such file or directory: 'CT000141.dcm'",
     "output_type": "error",
     "traceback": [
      "\u001b[0;31m---------------------------------------------------------------------------\u001b[0m",
      "\u001b[0;31mFileNotFoundError\u001b[0m                         Traceback (most recent call last)",
      "Cell \u001b[0;32mIn[9], line 1\u001b[0m\n\u001b[0;32m----> 1\u001b[0m data \u001b[38;5;241m=\u001b[39m \u001b[43mpydicom\u001b[49m\u001b[38;5;241;43m.\u001b[39;49m\u001b[43mdcmread\u001b[49m\u001b[43m(\u001b[49m\u001b[38;5;124;43m\"\u001b[39;49m\u001b[38;5;124;43mCT000141.dcm\u001b[39;49m\u001b[38;5;124;43m\"\u001b[39;49m\u001b[43m)\u001b[49m\n\u001b[1;32m      2\u001b[0m img_raw \u001b[38;5;241m=\u001b[39m data\u001b[38;5;241m.\u001b[39mpixel_array\u001b[38;5;241m.\u001b[39mastype(np\u001b[38;5;241m.\u001b[39mfloat64)\n\u001b[1;32m      3\u001b[0m img_raw \u001b[38;5;241m=\u001b[39m img_raw \u001b[38;5;241m*\u001b[39m data\u001b[38;5;241m.\u001b[39mRescaleSlope \u001b[38;5;241m+\u001b[39m data\u001b[38;5;241m.\u001b[39mRescaleIntercept\n",
      "File \u001b[0;32m~/.local/lib/python3.10/site-packages/pydicom/filereader.py:993\u001b[0m, in \u001b[0;36mdcmread\u001b[0;34m(fp, defer_size, stop_before_pixels, force, specific_tags)\u001b[0m\n\u001b[1;32m    991\u001b[0m     caller_owns_file \u001b[38;5;241m=\u001b[39m \u001b[38;5;28;01mFalse\u001b[39;00m\n\u001b[1;32m    992\u001b[0m     logger\u001b[38;5;241m.\u001b[39mdebug(\u001b[38;5;124m\"\u001b[39m\u001b[38;5;124mReading file \u001b[39m\u001b[38;5;124m'\u001b[39m\u001b[38;5;132;01m{0}\u001b[39;00m\u001b[38;5;124m'\u001b[39m\u001b[38;5;124m\"\u001b[39m\u001b[38;5;241m.\u001b[39mformat(fp))\n\u001b[0;32m--> 993\u001b[0m     fp \u001b[38;5;241m=\u001b[39m \u001b[38;5;28;43mopen\u001b[39;49m\u001b[43m(\u001b[49m\u001b[43mfp\u001b[49m\u001b[43m,\u001b[49m\u001b[43m \u001b[49m\u001b[38;5;124;43m'\u001b[39;49m\u001b[38;5;124;43mrb\u001b[39;49m\u001b[38;5;124;43m'\u001b[39;49m\u001b[43m)\u001b[49m\n\u001b[1;32m    994\u001b[0m \u001b[38;5;28;01melif\u001b[39;00m fp \u001b[38;5;129;01mis\u001b[39;00m \u001b[38;5;28;01mNone\u001b[39;00m \u001b[38;5;129;01mor\u001b[39;00m \u001b[38;5;129;01mnot\u001b[39;00m \u001b[38;5;28mhasattr\u001b[39m(fp, \u001b[38;5;124m\"\u001b[39m\u001b[38;5;124mread\u001b[39m\u001b[38;5;124m\"\u001b[39m) \u001b[38;5;129;01mor\u001b[39;00m \u001b[38;5;129;01mnot\u001b[39;00m \u001b[38;5;28mhasattr\u001b[39m(fp, \u001b[38;5;124m\"\u001b[39m\u001b[38;5;124mseek\u001b[39m\u001b[38;5;124m\"\u001b[39m):\n\u001b[1;32m    995\u001b[0m     \u001b[38;5;28;01mraise\u001b[39;00m \u001b[38;5;167;01mTypeError\u001b[39;00m(\u001b[38;5;124m\"\u001b[39m\u001b[38;5;124mdcmread: Expected a file path or a file-like, \u001b[39m\u001b[38;5;124m\"\u001b[39m\n\u001b[1;32m    996\u001b[0m                     \u001b[38;5;124m\"\u001b[39m\u001b[38;5;124mbut got \u001b[39m\u001b[38;5;124m\"\u001b[39m \u001b[38;5;241m+\u001b[39m \u001b[38;5;28mtype\u001b[39m(fp)\u001b[38;5;241m.\u001b[39m\u001b[38;5;18m__name__\u001b[39m)\n",
      "\u001b[0;31mFileNotFoundError\u001b[0m: [Errno 2] No such file or directory: 'CT000141.dcm'"
     ]
    }
   ],
   "source": [
    "data = pydicom.dcmread(\"CT000141.dcm\")\n",
    "img_raw = data.pixel_array.astype(np.float64)\n",
    "img_raw = img_raw * data.RescaleSlope + data.RescaleIntercept\n",
    "plot_big(img_raw)"
   ]
  },
  {
   "cell_type": "code",
   "execution_count": null,
   "metadata": {
    "colab": {
     "base_uri": "https://localhost:8080/",
     "height": 595
    },
    "id": "PTyeDIi2TWY9",
    "outputId": "50de5a30-3777-4b18-c8e9-c408df30763e"
   },
   "outputs": [],
   "source": [
    "img = window_image(img_raw, 60, 120)\n",
    "plot_big(img)"
   ]
  },
  {
   "cell_type": "code",
   "execution_count": null,
   "metadata": {
    "colab": {
     "base_uri": "https://localhost:8080/",
     "height": 594
    },
    "id": "XBcrkmX5q-8s",
    "outputId": "32875546-89b5-4fc5-f9bd-bb943bc7a570"
   },
   "outputs": [],
   "source": [
    "img = img.astype(np.uint8)\n",
    "img = cv2.resize(img, (256, 256))\n",
    "plot_big(img)"
   ]
  },
  {
   "cell_type": "code",
   "execution_count": null,
   "metadata": {
    "colab": {
     "base_uri": "https://localhost:8080/",
     "height": 282
    },
    "id": "9UD-RygrrSrf",
    "outputId": "16e8158c-a1ba-453d-9a72-1274da90d472"
   },
   "outputs": [],
   "source": [
    "histogram = cv2.calcHist([img], [0], None, [256], [0, 256])\n",
    "plt.plot(histogram)"
   ]
  },
  {
   "cell_type": "code",
   "execution_count": null,
   "metadata": {
    "colab": {
     "base_uri": "https://localhost:8080/",
     "height": 594
    },
    "id": "T4b1BomlExvf",
    "outputId": "8fb2d149-f8d7-4222-dda6-debdafc13c0a"
   },
   "outputs": [],
   "source": [
    "mask = np.zeros_like(img) + 255\n",
    "mask[img > 230] = 0\n",
    "mask[img < 30] = 0\n",
    "\n",
    "plot_big(mask)"
   ]
  },
  {
   "cell_type": "code",
   "execution_count": null,
   "metadata": {
    "colab": {
     "base_uri": "https://localhost:8080/",
     "height": 282
    },
    "id": "TGbYI_2fEXC2",
    "outputId": "ac045ea8-e818-4dae-fa88-1e982bfe7fe6"
   },
   "outputs": [],
   "source": [
    "histogram = cv2.calcHist([img], [0], mask, [256], [0, 256])\n",
    "plt.plot(histogram)"
   ]
  },
  {
   "cell_type": "code",
   "execution_count": null,
   "metadata": {
    "colab": {
     "base_uri": "https://localhost:8080/",
     "height": 594
    },
    "id": "j0EeOw08FblK",
    "outputId": "6749834c-7d35-499c-8330-7245abc6e42b"
   },
   "outputs": [],
   "source": [
    "masked_img = np.copy(img)\n",
    "masked_img[mask == 0] = 0\n",
    "masked_img = cv2.erode(masked_img, np.ones((3, 3)))\n",
    "masked_img = cv2.dilate(masked_img, np.ones((3, 3)))\n",
    "plot_big(masked_img)"
   ]
  },
  {
   "cell_type": "code",
   "execution_count": null,
   "metadata": {
    "id": "SbhA8BceEY-r"
   },
   "outputs": [],
   "source": [
    "\n",
    "brain_mask = biggest_component(masked_img)\n",
    "#brain_mask = cv2.erode(brain_mask, np.ones((5, 5)))\n",
    "#brain_mask = cv2.dilate(brain_mask, np.ones((5, 5)))\n",
    "masked_brain = np.copy(masked_img) \n",
    "masked_brain[brain_mask == 0] = 0\n",
    "\n",
    "plot_big(masked_brain)"
   ]
  },
  {
   "cell_type": "code",
   "execution_count": null,
   "metadata": {
    "colab": {
     "base_uri": "https://localhost:8080/",
     "height": 282
    },
    "id": "colDL4ZjJzwc",
    "outputId": "693781ca-6c4a-451c-94c8-331fc1466d18"
   },
   "outputs": [],
   "source": [
    "histogram = cv2.calcHist([img], [0], brain_mask.astype(np.uint8), [256], [0, 256])\n",
    "plt.plot(histogram)"
   ]
  },
  {
   "cell_type": "code",
   "execution_count": null,
   "metadata": {
    "colab": {
     "base_uri": "https://localhost:8080/",
     "height": 535
    },
    "id": "TUwNIhG74zmw",
    "outputId": "d5f9c14a-ed6c-4c9b-9a57-d96bb8130c12"
   },
   "outputs": [],
   "source": [
    "smoothed_histogram = apply_smoothing(histogram, window_size=9)\n",
    "maxs = find_extrema_with_windowing(smoothed_histogram, window_size=7, is_min=False)\n",
    "mins = find_extrema_with_windowing(smoothed_histogram, window_size=7, is_min=True)\n",
    "\n",
    "plt.figure(figsize=(15, 7))\n",
    "plt.plot(histogram)\n",
    "plt.plot(smoothed_histogram)\n",
    "plt.legend(['raw', 'smoothed'])\n",
    "plt.plot(maxs, [0] * len(maxs), '.r', markersize=10)\n",
    "#plt.plot(mins, [0] * len(mins), '.g', markersize=10)\n"
   ]
  },
  {
   "cell_type": "code",
   "execution_count": null,
   "metadata": {
    "colab": {
     "base_uri": "https://localhost:8080/",
     "height": 282
    },
    "id": "Mxe4c8mJFDuK",
    "outputId": "a60aeff3-a0ee-4d8d-ad02-ae5ca4e8877a"
   },
   "outputs": [],
   "source": [
    "plt.plot(histogram[150:])\n",
    "plt.plot(smoothed_histogram[150:])\n",
    "high_maxs = [m-150 for m in maxs if m > 150]\n",
    "plt.plot(high_maxs, [0] * len(high_maxs), '.r', markersize=10)"
   ]
  },
  {
   "cell_type": "code",
   "execution_count": null,
   "metadata": {
    "colab": {
     "base_uri": "https://localhost:8080/",
     "height": 1000
    },
    "id": "zKgQ5Kux6eXw",
    "outputId": "b8d40f87-6455-44f3-b2cf-508ecd32b111"
   },
   "outputs": [],
   "source": [
    "# find the first maximum after the 150 and assume it is the hemorrhage\n",
    "hemorrhage_idx = 0\n",
    "for i, val in enumerate(maxs):\n",
    "  if val > 130:\n",
    "    hemorrhage_idx = i\n",
    "    break\n",
    "\n",
    "threshold = int(0.5 * maxs[hemorrhage_idx] + 0.5 * maxs[hemorrhage_idx-1])\n",
    "\n",
    "width = maxs[-1] - threshold\n",
    "left_limit = maxs[-1] - width\n",
    "right_limit = maxs[-1] + width\n",
    "print(left_limit, maxs[-1], right_limit)\n",
    "\n",
    "mask = np.copy(masked_brain)\n",
    "mask[mask < left_limit] = 0\n",
    "mask[mask > right_limit] = 0\n",
    "mask[mask > 0] = 255\n",
    "\n",
    "mask = cv2.erode(mask, np.ones((5, 5)))\n",
    "mask = cv2.dilate(mask, np.ones((3, 3)), iterations=2)\n",
    "segmented = np.copy(img)\n",
    "segmented[mask == 0] = 0\n",
    "\n",
    "# draw connected components and their areas\n",
    "output = cv2.connectedComponentsWithStats(mask)\n",
    "num_labels = output[0]\n",
    "labels = output[1]\n",
    "stats = output[2]\n",
    "centroids = output[3]\n",
    "components_view = cv2.cvtColor(segmented, cv2.COLOR_GRAY2BGR)\n",
    "for label_idx in range(1, num_labels): # starts from 1 to ignore backgronud\n",
    "  bb_left = stats[label_idx, cv2.CC_STAT_LEFT]\n",
    "  bb_top = stats[label_idx, cv2.CC_STAT_TOP]\n",
    "  bb_height = stats[label_idx, cv2.CC_STAT_HEIGHT]\n",
    "  bb_width = stats[label_idx, cv2.CC_STAT_WIDTH]\n",
    "  bb_area = stats[label_idx, cv2.CC_STAT_AREA]\n",
    "\n",
    "  cv2.rectangle(components_view, (bb_left, bb_top), (bb_left + bb_width, bb_top + bb_height), (255, 0, 0), 1)\n",
    "  cv2.putText(components_view, f\"{bb_area}\", (bb_left, bb_top-5), cv2.FONT_HERSHEY_SIMPLEX, 1, (255, 0, 0))\n",
    "\n",
    "\n",
    "noise_removal_mask = mask_out_small_components(labels, stats)\n",
    "mask[noise_removal_mask == 0] = 0\n",
    "segmented[noise_removal_mask == 0] = 0\n",
    "\n",
    "plt.figure(figsize=(10, 40))\n",
    "plt.subplot(4, 1, 1)\n",
    "plt.imshow(img, cmap=\"Greys_r\")\n",
    "plt.subplot(4, 1, 2)\n",
    "plt.imshow(masked_brain, cmap=\"Greys_r\")\n",
    "plt.subplot(4, 1, 3)\n",
    "plt.imshow(components_view, cmap=\"Greys_r\")\n",
    "plt.subplot(4, 1, 4)\n",
    "plt.imshow(segmented, cmap=\"Greys_r\")\n"
   ]
  },
  {
   "cell_type": "code",
   "execution_count": null,
   "metadata": {
    "colab": {
     "base_uri": "https://localhost:8080/",
     "height": 511
    },
    "id": "J6VCnTwAAHy3",
    "outputId": "704f2bcc-a19c-4c18-8d7e-f179c98d803d"
   },
   "outputs": [],
   "source": [
    "heatmap = cv2.cvtColor(img, cv2.COLOR_GRAY2BGR)\n",
    "heatmap[mask > 0] = (255, 0, 0)\n",
    "\n",
    "print(mask.shape, np.min(mask), np.max(mask))\n",
    "print(heatmap.shape, np.min(heatmap), np.max(heatmap))\n",
    "\n",
    "plt.figure(figsize=(20, 10))\n",
    "plt.subplot(1, 2, 1)\n",
    "plt.imshow(img, cmap=\"Greys_r\")\n",
    "plt.subplot(1, 2, 2)\n",
    "plt.imshow(heatmap, cmap=\"Greys_r\")"
   ]
  },
  {
   "cell_type": "markdown",
   "metadata": {
    "id": "8e82NJhfQKdk"
   },
   "source": [
    "# Testes Adicionais [Ignorar abaixo]\n"
   ]
  },
  {
   "cell_type": "code",
   "execution_count": null,
   "metadata": {
    "colab": {
     "base_uri": "https://localhost:8080/",
     "height": 372
    },
    "id": "pR2QFHK8Lp6f",
    "outputId": "a1867d34-7f70-4214-efc7-0a1f08bcede0"
   },
   "outputs": [],
   "source": [
    "from scipy.signal import medfilt\n",
    "\n",
    "\n",
    "def derivate(values):\n",
    "  derivatives = []\n",
    "  for i in range(1, len(values)):\n",
    "    dx = i - (i - 1)\n",
    "    dy = values[i] - values[i - 1]\n",
    "    derivatives.append(dy / dx)\n",
    "  return derivatives\n",
    "\n",
    "derivatives = derivate(histogram)\n",
    "smoothed_derivatives = apply_smoothing(derivatives, window_size=15)\n",
    "\n",
    "plt.subplot(1, 2, 1)\n",
    "plt.plot(derivatives)\n",
    "plt.subplot(1, 2, 2)\n",
    "plt.plot(smoothed_derivatives)\n",
    "\n"
   ]
  },
  {
   "cell_type": "code",
   "execution_count": null,
   "metadata": {
    "colab": {
     "base_uri": "https://localhost:8080/",
     "height": 129
    },
    "id": "Cy2pHd_ll99E",
    "outputId": "4f3a8b3e-67d5-46e3-d6f6-92cc5cde8868"
   },
   "outputs": [],
   "source": [
    "\n",
    "\n",
    "def find_min_points_with_derivatives(values, smooth_derivatives=True): \n",
    "  FIRST_THRESHOLD = 1e-1\n",
    "  SECOND_THRESHOLD = 1e-1\n",
    "\n",
    "  WINDOW_SIZE = 10\n",
    "\n",
    "  first_derivatives = derivate(values)\n",
    "  if smooth_derivatives:\n",
    "    first_derivatives = apply_smoothing(first_derivatives, window_size=5)\n",
    "  \n",
    "  second_derivatives = derivate(first_derivatives)\n",
    "  if smooth_derivatives:\n",
    "    second_derivatives = apply_smoothing(second_derivatives, window_size=5)\n",
    "  \n",
    "  min_points = []\n",
    "\n",
    "  for idx in range(len(first_derivatives)):\n",
    "    l = idx - WINDOW_SIZE // 2\n",
    "    r = idx + WINDOW_SIZE // 2\n",
    "    window = np.abs(first_derivatives[l : r])\n",
    "    if len(window) <= 1:\n",
    "      continue\n",
    "    argmin_idx = np.argmin(window)\n",
    "    if idx == (l + argmin_idx):\n",
    "      first_d = first_derivatives[idx]\n",
    "      second_d = second_derivatives[idx]\n",
    "      if abs(first_d) < FIRST_THRESHOLD and second_d > SECOND_THRESHOLD:\n",
    "        min_points.append(idx)\n",
    "      \n",
    "  return min_points, first_derivatives, second_derivatives\n",
    "\n",
    "\n",
    "min_points = find_extrema_with_windowing(smoothed_derivatives, is_min=True)\n",
    "\n",
    "plt.subplot(3, 1, 1)\n",
    "plt.plot(smoothed_derivatives)\n",
    "plt.plot(min_points, [0] * len(min_points), '.r', markersize=10)\n",
    "#plt.subplot(3, 1, 2)\n",
    "#plt.plot(f)\n",
    "#plt.subplot(3, 1, 3)\n",
    "#plt.plot(s)\n"
   ]
  },
  {
   "cell_type": "code",
   "execution_count": null,
   "metadata": {
    "colab": {
     "base_uri": "https://localhost:8080/",
     "height": 337
    },
    "id": "43kY4bMAsP8d",
    "outputId": "f8da88e9-7ef1-4859-b7db-d79e8b30df55"
   },
   "outputs": [],
   "source": [
    "def find_skull_removal_threshold(histogram):\n",
    "  max_intensity = 256\n",
    "  start = int((2 / 3) * 256)\n",
    "  end = 256\n",
    "  fxs = []\n",
    "  theshold = start\n",
    "  min_fx = np.inf  \n",
    "  for i in range(start, end):\n",
    "    dp = histogram[i] - histogram[i - 1]\n",
    "    di = i - (i - 1)\n",
    "    d = max_intensity - i\n",
    "    fx = (dp / di) * d\n",
    "    if fx > min_fx: \n",
    "      min_fx = fx\n",
    "      threshold = i\n",
    "    fxs.append(fx)\n",
    "  return theshold, fxs\n",
    "\n",
    "threshold, fxs = find_skull_removal_threshold(histogram)\n",
    "\n",
    "plt.subplot(2, 1, 1)\n",
    "plt.plot(histogram)\n",
    "plt.plot([threshold], [0], '.r', markersize=7)\n",
    "plt.subplot(2, 1, 2)\n",
    "plt.plot(range(256), ([0] * int(256  - (1/3) * 256)) + list(fxs), '-g')\n"
   ]
  },
  {
   "cell_type": "code",
   "execution_count": null,
   "metadata": {
    "colab": {
     "base_uri": "https://localhost:8080/",
     "height": 594
    },
    "id": "frHAIDTHDV-z",
    "outputId": "f4e2d1f5-280e-46c7-bffa-9f880814a480"
   },
   "outputs": [],
   "source": [
    "mask = np.copy(img)\n",
    "mask[mask <= threshold] = 0 \n",
    "mask[mask > threshold] = 255\n",
    "mask = 255 - mask\n",
    "\n",
    "plot_big(mask)"
   ]
  },
  {
   "cell_type": "code",
   "execution_count": null,
   "metadata": {},
   "outputs": [],
   "source": []
  },
  {
   "cell_type": "code",
   "execution_count": null,
   "metadata": {},
   "outputs": [],
   "source": []
  },
  {
   "cell_type": "code",
   "execution_count": null,
   "metadata": {},
   "outputs": [],
   "source": []
  },
  {
   "cell_type": "code",
   "execution_count": null,
   "metadata": {},
   "outputs": [],
   "source": []
  },
  {
   "cell_type": "code",
   "execution_count": null,
   "metadata": {},
   "outputs": [],
   "source": []
  },
  {
   "cell_type": "code",
   "execution_count": null,
   "metadata": {},
   "outputs": [],
   "source": []
  },
  {
   "cell_type": "code",
   "execution_count": null,
   "metadata": {},
   "outputs": [],
   "source": []
  },
  {
   "cell_type": "code",
   "execution_count": null,
   "metadata": {},
   "outputs": [],
   "source": []
  }
 ],
 "metadata": {
  "colab": {
   "provenance": []
  },
  "kernelspec": {
   "display_name": "Python 3 (ipykernel)",
   "language": "python",
   "name": "python3"
  },
  "language_info": {
   "codemirror_mode": {
    "name": "ipython",
    "version": 3
   },
   "file_extension": ".py",
   "mimetype": "text/x-python",
   "name": "python",
   "nbconvert_exporter": "python",
   "pygments_lexer": "ipython3",
   "version": "3.10.6"
  },
  "vscode": {
   "interpreter": {
    "hash": "444d05d3491f93f5b17412671d068b195a3e37c936f545933611371140ad11e9"
   }
  }
 },
 "nbformat": 4,
 "nbformat_minor": 1
}
